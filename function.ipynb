{
 "cells": [
  {
   "cell_type": "markdown",
   "id": "a9f0514e-13ed-43d9-9d8f-0f7d010a1400",
   "metadata": {},
   "source": [
    "Q11. Imagine an accounting routine used in a book shop. It works on a list with sublists, which look like this:\n",
    "order number           Quantity      price pre item\n",
    "34587                      4            40.95\n",
    "98762                      5            56.80\n",
    "77226                      3            32.95\n",
    "88112                      3            24.99\n",
    "\n",
    "Write a Python program, which returns a list with 2-tuples. Each tuple consists of the order number and the product of the price per item and the quantity. The product should be increased by 10,- € if the value of the order is smaller than 100,00 €.\n",
    "\n",
    "Write a Python program using lambda and map."
   ]
  },
  {
   "cell_type": "code",
   "execution_count": 18,
   "id": "3ae17516-38a7-49c4-ac92-435acc2b31a9",
   "metadata": {},
   "outputs": [
    {
     "name": "stdout",
     "output_type": "stream",
     "text": [
      "[(34587, 163.8), (988762, 284.0), (77226, 108.85000000000001), (88112, 84.97), (34587, 163.8), (988762, 284.0), (77226, 108.85000000000001), (88112, 84.97)]\n"
     ]
    }
   ],
   "source": [
    "from functools import reduce\n",
    "lis=([34587,40.95,4],[988762,56.80,5],[77226,32.95,3],[88112,24.99,3],[34587,40.95,4],[988762,56.80,5],[77226,32.95,3],[88112,24.99,3])\n",
    "a=lambda lis:(lis[0],lis[1]*lis[2]+(10 if lis[1]*lis[2]<100 else 0))\n",
    "product=list(map(a,lis))\n",
    "print(product)"
   ]
  },
  {
   "cell_type": "code",
   "execution_count": null,
   "id": "4976d16c-3c32-487d-a10d-bf23b029283f",
   "metadata": {},
   "outputs": [],
   "source": []
  },
  {
   "cell_type": "code",
   "execution_count": null,
   "id": "7b124406-6135-4d27-9480-b3cb148965ea",
   "metadata": {},
   "outputs": [],
   "source": []
  }
 ],
 "metadata": {
  "kernelspec": {
   "display_name": "Python 3 (ipykernel)",
   "language": "python",
   "name": "python3"
  },
  "language_info": {
   "codemirror_mode": {
    "name": "ipython",
    "version": 3
   },
   "file_extension": ".py",
   "mimetype": "text/x-python",
   "name": "python",
   "nbconvert_exporter": "python",
   "pygments_lexer": "ipython3",
   "version": "3.10.8"
  }
 },
 "nbformat": 4,
 "nbformat_minor": 5
}
