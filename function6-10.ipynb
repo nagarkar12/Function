{
 "cells": [
  {
   "cell_type": "markdown",
   "id": "f301b654-a3f4-46cf-9b98-e90e064e70c1",
   "metadata": {},
   "source": [
    "Q6. Write a generator function in Python that yields the powers of 2 up to a given exponent."
   ]
  },
  {
   "cell_type": "code",
   "execution_count": 12,
   "id": "033155c6-1890-4109-a802-df0e5c169a6a",
   "metadata": {},
   "outputs": [
    {
     "data": {
      "text/plain": [
       "<generator object powers_e at 0x79d999f585f0>"
      ]
     },
     "execution_count": 12,
     "metadata": {},
     "output_type": "execute_result"
    }
   ],
   "source": [
    "def powers_e(e):\n",
    "    for i in range(e):\n",
    "        yield i**2\n",
    "powers_e(5)"
   ]
  },
  {
   "cell_type": "code",
   "execution_count": 13,
   "id": "f6d365f0-2e7e-43cf-a21c-db8331ad777d",
   "metadata": {},
   "outputs": [
    {
     "data": {
      "text/plain": [
       "<generator object powers_e at 0x79d999f592a0>"
      ]
     },
     "execution_count": 13,
     "metadata": {},
     "output_type": "execute_result"
    }
   ],
   "source": [
    "gen=powers_e(5)\n",
    "gen"
   ]
  },
  {
   "cell_type": "code",
   "execution_count": 14,
   "id": "683f7386-17db-4169-aa7f-2ebd9c5063ba",
   "metadata": {},
   "outputs": [
    {
     "data": {
      "text/plain": [
       "0"
      ]
     },
     "execution_count": 14,
     "metadata": {},
     "output_type": "execute_result"
    }
   ],
   "source": [
    "next(gen)"
   ]
  },
  {
   "cell_type": "code",
   "execution_count": 15,
   "id": "175430d3-b038-4314-93c3-cf8bbb8f9aaa",
   "metadata": {},
   "outputs": [
    {
     "data": {
      "text/plain": [
       "1"
      ]
     },
     "execution_count": 15,
     "metadata": {},
     "output_type": "execute_result"
    }
   ],
   "source": [
    "next(gen)"
   ]
  },
  {
   "cell_type": "code",
   "execution_count": 16,
   "id": "23998693-146d-4621-bc41-1554fcc74913",
   "metadata": {},
   "outputs": [
    {
     "data": {
      "text/plain": [
       "4"
      ]
     },
     "execution_count": 16,
     "metadata": {},
     "output_type": "execute_result"
    }
   ],
   "source": [
    "next(gen)"
   ]
  },
  {
   "cell_type": "code",
   "execution_count": 17,
   "id": "e4363b9f-c0a9-4958-945d-dfa8e8ecc6dd",
   "metadata": {},
   "outputs": [
    {
     "data": {
      "text/plain": [
       "9"
      ]
     },
     "execution_count": 17,
     "metadata": {},
     "output_type": "execute_result"
    }
   ],
   "source": [
    "next(gen)"
   ]
  },
  {
   "cell_type": "code",
   "execution_count": 18,
   "id": "e141429a-b94b-4c9a-9d5f-9473603b26ef",
   "metadata": {},
   "outputs": [
    {
     "data": {
      "text/plain": [
       "16"
      ]
     },
     "execution_count": 18,
     "metadata": {},
     "output_type": "execute_result"
    }
   ],
   "source": [
    "next(gen)"
   ]
  },
  {
   "cell_type": "markdown",
   "id": "4df5e7f3-c5ef-4690-a60f-70113478d1f4",
   "metadata": {},
   "source": [
    "Q7. Implement a generator function that reads a file line by line and yields each line as a string."
   ]
  },
  {
   "cell_type": "code",
   "execution_count": 21,
   "id": "bdc3ecfd-4a9d-40a0-a2c6-c308845d844b",
   "metadata": {},
   "outputs": [
    {
     "data": {
      "text/plain": [
       "'python file'"
      ]
     },
     "execution_count": 21,
     "metadata": {},
     "output_type": "execute_result"
    }
   ],
   "source": [
    "def file_string():\n",
    "    yield\"python file\"\n",
    "    yield\"function assignment\"\n",
    "    yield\"generator function\"\n",
    "line=file_string()\n",
    "next(line)"
   ]
  },
  {
   "cell_type": "code",
   "execution_count": 22,
   "id": "7d0ee9a9-9bed-42f7-9833-9f6c8d688387",
   "metadata": {},
   "outputs": [
    {
     "data": {
      "text/plain": [
       "'function assignment'"
      ]
     },
     "execution_count": 22,
     "metadata": {},
     "output_type": "execute_result"
    }
   ],
   "source": [
    "next(line)"
   ]
  },
  {
   "cell_type": "code",
   "execution_count": 23,
   "id": "3981f330-9c4d-4b02-a76e-c2ffc1d58d99",
   "metadata": {},
   "outputs": [
    {
     "data": {
      "text/plain": [
       "'generator function'"
      ]
     },
     "execution_count": 23,
     "metadata": {},
     "output_type": "execute_result"
    }
   ],
   "source": [
    "next(line)"
   ]
  },
  {
   "cell_type": "markdown",
   "id": "3b33eecd-394c-474b-9a36-0ad55140639b",
   "metadata": {},
   "source": [
    "Q8. Use a lambda function in Python to sort a list of tuples based on the second element of each tuple."
   ]
  },
  {
   "cell_type": "code",
   "execution_count": 25,
   "id": "4050a40a-42f0-4a98-b70c-6f3003e5012f",
   "metadata": {},
   "outputs": [
    {
     "name": "stdout",
     "output_type": "stream",
     "text": [
      "[(5, 0), (3, 1), (2, 2), (1, 3)]\n"
     ]
    }
   ],
   "source": [
    "lis=[(1,3),(3,1),(2,2),(5,0)]\n",
    "sort=sorted(lis,key=lambda x:x[1])\n",
    "print(sort)"
   ]
  },
  {
   "cell_type": "markdown",
   "id": "250ff3f7-466c-42b5-b7e3-47cf3ac99bff",
   "metadata": {},
   "source": [
    "Q9. Write a Python program that uses map() to convert a list of temperatures from Celsius to Fahrenheit"
   ]
  },
  {
   "cell_type": "code",
   "execution_count": 1,
   "id": "36b02a1f-6a0f-4709-a787-a69af1b25647",
   "metadata": {},
   "outputs": [
    {
     "name": "stdout",
     "output_type": "stream",
     "text": [
      "47.00 Celsius is equivalent to: 116.60 Fahrenheit\n"
     ]
    }
   ],
   "source": [
    "celsius = 47\n",
    "fahrenheit = (celsius * 1.8) + 32\n",
    "print('%.2f Celsius is equivalent to: %.2f Fahrenheit'\n",
    "\t% (celsius, fahrenheit))\n"
   ]
  },
  {
   "cell_type": "markdown",
   "id": "fae407fb-dbeb-43a0-b2cd-feac92861a96",
   "metadata": {},
   "source": [
    "Q10. Create a Python program that uses filter() to remove all the vowels from a given string."
   ]
  },
  {
   "cell_type": "code",
   "execution_count": 2,
   "id": "6889ea9e-9eee-4568-9ebc-002108bbd23c",
   "metadata": {},
   "outputs": [
    {
     "name": "stdout",
     "output_type": "stream",
     "text": [
      "Dt scnc Wth Gnrtv  Crs \n"
     ]
    }
   ],
   "source": [
    "def rem_vowel(string):\n",
    "\tvowels = ['a','e','i','o','u'] \n",
    "\tresult = [letter for letter in string if letter.lower() not in vowels] \n",
    "\tresult = ''.join(result) \n",
    "\tprint(result) \n",
    "\n",
    "string = \"Data science With Generative AI Course \"\n",
    "rem_vowel(string) "
   ]
  },
  {
   "cell_type": "code",
   "execution_count": null,
   "id": "9985aa72-ba82-4e99-bb6c-8573afe81d09",
   "metadata": {},
   "outputs": [],
   "source": []
  }
 ],
 "metadata": {
  "kernelspec": {
   "display_name": "Python 3 (ipykernel)",
   "language": "python",
   "name": "python3"
  },
  "language_info": {
   "codemirror_mode": {
    "name": "ipython",
    "version": 3
   },
   "file_extension": ".py",
   "mimetype": "text/x-python",
   "name": "python",
   "nbconvert_exporter": "python",
   "pygments_lexer": "ipython3",
   "version": "3.10.8"
  }
 },
 "nbformat": 4,
 "nbformat_minor": 5
}
