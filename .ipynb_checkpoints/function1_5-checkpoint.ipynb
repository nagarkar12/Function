{
 "cells": [
  {
   "cell_type": "markdown",
   "id": "63f10d88-4daf-4230-8aeb-40f622d88ade",
   "metadata": {},
   "source": [
    "Q1. Write a Python function that takes a list of numbers as input and returns the sum of all even numbers in the list."
   ]
  },
  {
   "cell_type": "code",
   "execution_count": 45,
   "id": "2a8c126a-c8bf-4ba3-b94d-cff5823c1527",
   "metadata": {},
   "outputs": [
    {
     "name": "stdin",
     "output_type": "stream",
     "text": [
      "enter the number 1 2 3 4 5 6 7 8 9 \n"
     ]
    },
    {
     "name": "stdout",
     "output_type": "stream",
     "text": [
      "[1, 2, 3, 4, 5, 6, 7, 8, 9]\n"
     ]
    },
    {
     "data": {
      "text/plain": [
       "20"
      ]
     },
     "execution_count": 45,
     "metadata": {},
     "output_type": "execute_result"
    }
   ],
   "source": [
    "def fun():\n",
    "    sum=0\n",
    "    lis=input(\"enter the number\")\n",
    "    a=list(map(int,lis.split()))\n",
    "    print(a)\n",
    "    for i in a:\n",
    "        if (i%2==0):\n",
    "            sum=sum+i\n",
    "    return(sum)\n",
    "        \n",
    "fun()"
   ]
  },
  {
   "cell_type": "markdown",
   "id": "fb0aa185-8f81-4482-ac41-30cc5d8bb74c",
   "metadata": {},
   "source": [
    "Q2. Create a Python function that accepts a string and returns the reverse of that string."
   ]
  },
  {
   "cell_type": "code",
   "execution_count": 47,
   "id": "b1f14ada-1149-4471-8ca3-956fe31af7ec",
   "metadata": {},
   "outputs": [
    {
     "name": "stdin",
     "output_type": "stream",
     "text": [
      "enter the string hello\n"
     ]
    },
    {
     "name": "stdout",
     "output_type": "stream",
     "text": [
      "olleh\n"
     ]
    }
   ],
   "source": [
    "def demo():\n",
    "    s=input(\"enter the string\")\n",
    "    print(s[-1::-1])\n",
    "demo()"
   ]
  },
  {
   "cell_type": "markdown",
   "id": "33b86403-ee14-4dda-b4a7-9153b3e98291",
   "metadata": {},
   "source": [
    "Q3. Implement a Python function that takes a list of integers and returns a new list containing the squares of each number."
   ]
  },
  {
   "cell_type": "code",
   "execution_count": 3,
   "id": "4d7e10e3-116a-42a2-8632-5356e38f0c2d",
   "metadata": {},
   "outputs": [
    {
     "data": {
      "text/plain": [
       "[1, 4, 9, 16, 25]"
      ]
     },
     "execution_count": 3,
     "metadata": {},
     "output_type": "execute_result"
    }
   ],
   "source": [
    "def fun():\n",
    "    no=[1,2,3,4,5]\n",
    "    sq_no=list(map(lambda x:x**2,no))\n",
    "    return(sq_no)\n",
    "fun()"
   ]
  },
  {
   "cell_type": "markdown",
   "id": "caa4d661-5094-4383-84e6-622ab31d9152",
   "metadata": {},
   "source": [
    "Q4.Write a Python function that checks if a given number is prime or not from 1 to 200."
   ]
  },
  {
   "cell_type": "code",
   "execution_count": null,
   "id": "4e136343-8169-414e-aacf-9b8b0588e1da",
   "metadata": {},
   "outputs": [],
   "source": []
  },
  {
   "cell_type": "code",
   "execution_count": null,
   "id": "0fee2db1-eae9-488c-8c20-77a813a5d428",
   "metadata": {},
   "outputs": [],
   "source": []
  }
 ],
 "metadata": {
  "kernelspec": {
   "display_name": "Python 3 (ipykernel)",
   "language": "python",
   "name": "python3"
  },
  "language_info": {
   "codemirror_mode": {
    "name": "ipython",
    "version": 3
   },
   "file_extension": ".py",
   "mimetype": "text/x-python",
   "name": "python",
   "nbconvert_exporter": "python",
   "pygments_lexer": "ipython3",
   "version": "3.10.8"
  }
 },
 "nbformat": 4,
 "nbformat_minor": 5
}
